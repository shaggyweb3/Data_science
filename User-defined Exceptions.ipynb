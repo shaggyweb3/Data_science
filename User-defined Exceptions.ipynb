{
  "cells": [
    {
      "cell_type": "markdown",
      "metadata": {
        "id": "view-in-github",
        "colab_type": "text"
      },
      "source": [
        "<a href=\"https://colab.research.google.com/github/shaggyweb3/Data_science/blob/main/User-defined%20Exceptions.ipynb\" target=\"_parent\"><img src=\"https://colab.research.google.com/assets/colab-badge.svg\" alt=\"Open In Colab\"/></a>"
      ]
    },
    {
      "cell_type": "markdown",
      "metadata": {
        "id": "MOE_TmiJaQH6"
      },
      "source": [
        "# User-defined Exceptions\n",
        "\n",
        "<p><strong>By deriving a new class</strong> from the default Exception class in Python, we can define our own exception types.</p>"
      ]
    },
    {
      "cell_type": "code",
      "execution_count": null,
      "metadata": {
        "id": "ZI4PCUAHaQH9"
      },
      "outputs": [],
      "source": [
        "class MyCustomError(Exception):\n",
        "    pass"
      ]
    },
    {
      "cell_type": "markdown",
      "metadata": {
        "id": "Nua_59NQaQH-"
      },
      "source": [
        "<p>In the above code, <code>MyCustomError</code> is derived from the built-in <code>Exception</code> class. You can use this in your code by using the <code>raise</code> statement.</p>"
      ]
    },
    {
      "cell_type": "code",
      "execution_count": null,
      "metadata": {
        "id": "KL81f4yZaQH-"
      },
      "outputs": [],
      "source": [
        "raise MyCustomError(\"This is a custom error\")"
      ]
    },
    {
      "cell_type": "code",
      "execution_count": null,
      "metadata": {
        "id": "GT7EMIsHaQH_"
      },
      "outputs": [],
      "source": []
    },
    {
      "cell_type": "code",
      "execution_count": null,
      "metadata": {
        "id": "672l4SE6aQH_"
      },
      "outputs": [],
      "source": [
        "# define user-defined exceptions\n",
        "class WrongAge(Exception):\n",
        "    \"Raised when the input value is less than 100\"\n",
        "    pass"
      ]
    },
    {
      "cell_type": "code",
      "execution_count": null,
      "metadata": {
        "id": "v2UW4ZVvaQH_",
        "outputId": "d4a64cbd-11b8-4884-b588-2377040b9558"
      },
      "outputs": [
        {
          "name": "stdout",
          "output_type": "stream",
          "text": [
            "Enter a age: 11\n",
            "Invalid Age: You are not allowed to work\n"
          ]
        }
      ],
      "source": [
        "# you need to guess this number\n",
        "n = 18\n",
        "\n",
        "try:\n",
        "    input_num = int(input(\"Enter a age: \"))\n",
        "    if input_num < n:\n",
        "        raise WrongAge # calling your custom exception\n",
        "    else:\n",
        "        print(\"You can work\")\n",
        "except WrongAge:\n",
        "    print(\"Invalid Age: You are not allowed to work\")"
      ]
    },
    {
      "cell_type": "markdown",
      "metadata": {
        "id": "Y2uOD06caQIA"
      },
      "source": [
        "# Logging\n",
        "\n",
        "<ul>\n",
        "<li><strong>Logging</strong> is a technique for monitoring events that take place when some software is in use.</li>\n",
        "<li>For the creation, operation, and debugging of software, logging is crucial.</li>\n",
        "<li>There are very little odds that you would find the source of the issue if your programme fails and you don't have any logging records.</li>\n",
        "<li>Additionally, it will take a lot of time to identify the cause.&nbsp;</li>\n",
        "</ul>"
      ]
    },
    {
      "cell_type": "code",
      "execution_count": null,
      "metadata": {
        "id": "bkQ0IrxqaQIA",
        "outputId": "a31cfd6b-e4e6-4622-9112-acc83e33c14e"
      },
      "outputs": [
        {
          "name": "stderr",
          "output_type": "stream",
          "text": [
            "DEBUG:root:This is a debug message\n",
            "INFO:root:This is an info message\n",
            "WARNING:root:This is a warning message\n",
            "ERROR:root:This is an error message\n",
            "CRITICAL:root:This is a critical message\n"
          ]
        }
      ],
      "source": [
        "# first import the logging library\n",
        "import logging\n",
        "\n",
        "\"\"\" In the code above, we first import the logging module, then we call the\n",
        "    basicConfig method to configure the logging.\n",
        "\n",
        "    We set the level to DEBUG, which means that all logs of level\n",
        "    DEBUG and above will be tracked.\"\"\"\n",
        "\n",
        "logging.basicConfig(level=logging.DEBUG)\n",
        "\n",
        "# Logging Level: severity of the event being logged\n",
        "# Least severe to most severe\n",
        "logging.debug('This is a debug message')\n",
        "logging.info('This is an info message')\n",
        "logging.warning('This is a warning message')\n",
        "logging.error('This is an error message')\n",
        "logging.critical('This is a critical message')\n"
      ]
    },
    {
      "cell_type": "markdown",
      "metadata": {
        "id": "u4QVkgKAaQIA"
      },
      "source": [
        "<ul>\n",
        "<li>Some programmers utilise the idea of&nbsp;<strong>\"Printing\"</strong> the statements to check whether they were correctly performed or if an error had occurred.</li>\n",
        "<li>However, printing is not a smart move. For basic scripts, it might be the answer to your problems, however the printing solution will fall short for complex programmes.</li>\n",
        "<li>A built-in Python package called logging enables publishing status messages to files or other output streams. The file may provide details about which portion of the code is run and any issues that have come up. </li>\n",
        "</ul>"
      ]
    },
    {
      "cell_type": "markdown",
      "metadata": {
        "id": "WBv-MWrGaQIA"
      },
      "source": [
        "<ul>\n",
        "<li>\n",
        "<p>Here are the different log levels in increasing order of severity:</p>\n",
        "<ul>\n",
        "<li>DEBUG: Detailed information, typically of interest only when diagnosing problems.</li>\n",
        "<li>INFO: Confirmation that things are working as expected.</li>\n",
        "<li>WARNING: An indication that something unexpected happened, or may happen in the future (e.g. &lsquo;disk space low&rsquo;). The software is still working as expected.</li>\n",
        "<li>ERROR: More serious problem that prevented the software from performing a function.</li>\n",
        "<li>CRITICAL: A very serious error, indicating that the program itself may be unable to continue running.</li>\n",
        "</ul>\n",
        "</li>\n",
        "</ul>"
      ]
    },
    {
      "cell_type": "markdown",
      "metadata": {
        "id": "HmgMz6X2aQIB"
      },
      "source": [
        "# Debug"
      ]
    },
    {
      "cell_type": "code",
      "execution_count": null,
      "metadata": {
        "id": "wI_s6mv5aQIB",
        "outputId": "08f33588-c849-4788-f5bd-08c8e9d6dac3"
      },
      "outputs": [
        {
          "name": "stderr",
          "output_type": "stream",
          "text": [
            "DEBUG:root:Variables are 1 and 2\n"
          ]
        },
        {
          "data": {
            "text/plain": [
              "3"
            ]
          },
          "execution_count": 9,
          "metadata": {},
          "output_type": "execute_result"
        }
      ],
      "source": [
        "import logging\n",
        "\n",
        "logging.basicConfig(level=logging.DEBUG)\n",
        "\n",
        "def add(x, y):\n",
        "    logging.debug('Variables are %s and %s', x, y)\n",
        "    return x + y\n",
        "\n",
        "add(1, 2)\n"
      ]
    },
    {
      "cell_type": "markdown",
      "metadata": {
        "id": "t669dCmeaQIB"
      },
      "source": [
        "# Info"
      ]
    },
    {
      "cell_type": "code",
      "execution_count": null,
      "metadata": {
        "id": "-o_XhZNaaQIB",
        "outputId": "e8ff5b3a-90d2-450e-97c7-6d1588123c71"
      },
      "outputs": [
        {
          "name": "stderr",
          "output_type": "stream",
          "text": [
            "INFO:root:User Admin User logged in\n"
          ]
        }
      ],
      "source": [
        "import logging\n",
        "\n",
        "logging.basicConfig(level=logging.INFO)\n",
        "\n",
        "def login(user):\n",
        "    logging.info('User %s logged in', user)\n",
        "\n",
        "login('Admin User')\n"
      ]
    },
    {
      "cell_type": "markdown",
      "metadata": {
        "id": "T89HpwV4aQIC"
      },
      "source": [
        "# Warning"
      ]
    },
    {
      "cell_type": "code",
      "execution_count": null,
      "metadata": {
        "id": "BXrgcaKqaQIC",
        "outputId": "ed236f40-5994-4403-cfcf-ea7cb72d795a"
      },
      "outputs": [
        {
          "name": "stderr",
          "output_type": "stream",
          "text": [
            "WARNING:root:Sorry you have Low balance: 10000\n"
          ]
        }
      ],
      "source": [
        "import logging\n",
        "\n",
        "logging.basicConfig(level=logging.WARNING)\n",
        "\n",
        "def MyBalance(amount):\n",
        "    if amount < 40000:\n",
        "        logging.warning('Sorry you have Low balance: %s', amount)\n",
        "\n",
        "MyBalance(10000)\n"
      ]
    },
    {
      "cell_type": "markdown",
      "metadata": {
        "id": "nTBBAqANaQIC"
      },
      "source": [
        "# Error"
      ]
    },
    {
      "cell_type": "code",
      "execution_count": null,
      "metadata": {
        "id": "hT_gSd2LaQID",
        "outputId": "81d9837c-428c-4eb8-afcd-09ec87d114a9"
      },
      "outputs": [
        {
          "name": "stderr",
          "output_type": "stream",
          "text": [
            "ERROR:root:You are trying to divide by zero, which is not allowed\n"
          ]
        }
      ],
      "source": [
        "import logging\n",
        "\n",
        "logging.basicConfig(level=logging.ERROR)\n",
        "\n",
        "def LetUsDivide(n, d):\n",
        "    try:\n",
        "        result = n / d\n",
        "    except ZeroDivisionError:\n",
        "        logging.error('You are trying to divide by zero, which is not allowed')\n",
        "    else:\n",
        "        return result\n",
        "\n",
        "LetUsDivide(4, 0)\n"
      ]
    },
    {
      "cell_type": "markdown",
      "metadata": {
        "id": "xos9GI6jaQID"
      },
      "source": [
        "# Critical Errors"
      ]
    },
    {
      "cell_type": "code",
      "execution_count": null,
      "metadata": {
        "id": "vW0OAgBBaQID",
        "outputId": "e85fa6c2-6e44-43f2-af68-2e1aef832d70"
      },
      "outputs": [
        {
          "name": "stderr",
          "output_type": "stream",
          "text": [
            "CRITICAL:root:System failure: You need to handle the issue now\n"
          ]
        }
      ],
      "source": [
        "import logging\n",
        "\n",
        "logging.basicConfig(level=logging.CRITICAL)\n",
        "\n",
        "def LetUsCheckSystem(sys):\n",
        "    if sys != 'OK':\n",
        "        logging.critical('System failure: %s', sys)\n",
        "\n",
        "LetUsCheckSystem('You need to handle the issue now')\n"
      ]
    },
    {
      "cell_type": "markdown",
      "metadata": {
        "id": "XJuMqi9LaQID"
      },
      "source": [
        "# Save to a file"
      ]
    },
    {
      "cell_type": "code",
      "execution_count": null,
      "metadata": {
        "id": "sM8cB0-haQID"
      },
      "outputs": [],
      "source": [
        "import os\n",
        "\n",
        "# Specify the directory and file\n",
        "dir_path = r'C:\\Users\\Dell\\Desktop\\June\\Latest\\iNeuron\\Sessions\\17_18June2023'\n",
        "log_file = 'system.txt'\n",
        "full_path = os.path.join(dir_path, log_file)\n",
        "\n",
        "# Check if the directory exists and create it if necessary\n",
        "os.makedirs(dir_path, exist_ok=True)\n",
        "\n",
        "# Try writing a test message to the file\n",
        "with open(full_path, 'w') as f:\n",
        "    f.write('This is a test message')\n"
      ]
    },
    {
      "cell_type": "code",
      "execution_count": null,
      "metadata": {
        "id": "aw16QqCQaQIE",
        "outputId": "a28476f0-7b14-46d7-b787-adc1da77213d"
      },
      "outputs": [
        {
          "name": "stdout",
          "output_type": "stream",
          "text": [
            "C:\\Users\\Dell\\Desktop\\June\\Latest\\iNeuron\\Sessions\\17_18June2023\n"
          ]
        }
      ],
      "source": [
        "import os\n",
        "print(os.getcwd())\n"
      ]
    },
    {
      "cell_type": "code",
      "execution_count": null,
      "metadata": {
        "id": "otXRRB_SaQIE"
      },
      "outputs": [],
      "source": [
        "import os\n",
        "import logging\n",
        "\n",
        "# Specify the directory and file\n",
        "dir_path = r'C:\\Users\\Dell\\Desktop\\June\\Latest\\iNeuron\\Sessions\\17_18June2023'\n",
        "log_file = 'system.txt'\n",
        "full_path = os.path.join(dir_path, log_file)\n",
        "\n",
        "# Check if the directory exists and create it if necessary\n",
        "os.makedirs(dir_path, exist_ok=True)\n",
        "\n",
        "# Set up logging\n",
        "# Get a logger instance (this will fetch the root logger)\n",
        "logger = logging.getLogger()\n",
        "\n",
        "# Set the level of the logger to CRITICAL\n",
        "# This means it will handle events of level CRITICAL and above\n",
        "logger.setLevel(logging.CRITICAL)\n",
        "\n",
        "# Create a FileHandler instance to write logs to a file\n",
        "handler = logging.FileHandler(full_path)\n",
        "\n",
        "# Set the format of the logs using a Formatter\n",
        "# This format includes the log timestamp, log level and log message\n",
        "handler.setFormatter(logging.Formatter('%(asctime)s:%(levelname)s:%(message)s'))\n",
        "\n",
        "# Add the handler to the logger\n",
        "# This connects the logger to the handler so that logs get written to the file\n",
        "logger.addHandler(handler)\n",
        "\n",
        "\n",
        "def LetUsCheckSystem(sys):\n",
        "    if sys != 'OK':\n",
        "        logging.critical('System failure: %s', sys)\n",
        "\n",
        "LetUsCheckSystem('You need to handle the issue now')\n",
        "handler.close()\n"
      ]
    },
    {
      "cell_type": "code",
      "execution_count": null,
      "metadata": {
        "id": "6tyogW5gaQIE",
        "outputId": "ba9e8258-4a14-45b4-ad2b-198b0dfd2678"
      },
      "outputs": [
        {
          "name": "stdout",
          "output_type": "stream",
          "text": [
            "> \u001b[1;32m<ipython-input-39-7ea871499ca9>\u001b[0m(5)\u001b[0;36maddition\u001b[1;34m()\u001b[0m\n",
            "\u001b[1;32m      3 \u001b[1;33m\u001b[1;32mdef\u001b[0m \u001b[0maddition\u001b[0m\u001b[1;33m(\u001b[0m\u001b[0ma\u001b[0m\u001b[1;33m,\u001b[0m \u001b[0mb\u001b[0m\u001b[1;33m)\u001b[0m\u001b[1;33m:\u001b[0m\u001b[1;33m\u001b[0m\u001b[1;33m\u001b[0m\u001b[0m\n",
            "\u001b[0m\u001b[1;32m      4 \u001b[1;33m    \u001b[0mpdb\u001b[0m\u001b[1;33m.\u001b[0m\u001b[0mset_trace\u001b[0m\u001b[1;33m(\u001b[0m\u001b[1;33m)\u001b[0m  \u001b[1;31m# Set a breakpoint here\u001b[0m\u001b[1;33m\u001b[0m\u001b[1;33m\u001b[0m\u001b[0m\n",
            "\u001b[0m\u001b[1;32m----> 5 \u001b[1;33m    \u001b[0mresult\u001b[0m \u001b[1;33m=\u001b[0m \u001b[0ma\u001b[0m \u001b[1;33m+\u001b[0m \u001b[0mb\u001b[0m\u001b[1;33m\u001b[0m\u001b[1;33m\u001b[0m\u001b[0m\n",
            "\u001b[0m\u001b[1;32m      6 \u001b[1;33m    \u001b[1;32mreturn\u001b[0m \u001b[0mresult\u001b[0m\u001b[1;33m\u001b[0m\u001b[1;33m\u001b[0m\u001b[0m\n",
            "\u001b[0m\u001b[1;32m      7 \u001b[1;33m\u001b[1;33m\u001b[0m\u001b[0m\n",
            "\u001b[0m\n",
            "ipdb> 2\n",
            "2\n",
            "ipdb> 2\n",
            "2\n",
            "ipdb> 2\n",
            "2\n"
          ]
        }
      ],
      "source": [
        "import pdb\n",
        "\n",
        "def addition(a, b):\n",
        "    pdb.set_trace()  # Set a breakpoint here\n",
        "    result = a + b\n",
        "    return result\n",
        "\n",
        "print(addition(5, 7))\n"
      ]
    },
    {
      "cell_type": "code",
      "execution_count": null,
      "metadata": {
        "id": "JVG1dUrQaQIE"
      },
      "outputs": [],
      "source": []
    }
  ],
  "metadata": {
    "kernelspec": {
      "display_name": "Python 3",
      "language": "python",
      "name": "python3"
    },
    "language_info": {
      "codemirror_mode": {
        "name": "ipython",
        "version": 3
      },
      "file_extension": ".py",
      "mimetype": "text/x-python",
      "name": "python",
      "nbconvert_exporter": "python",
      "pygments_lexer": "ipython3",
      "version": "3.8.5"
    },
    "colab": {
      "provenance": [],
      "include_colab_link": true
    }
  },
  "nbformat": 4,
  "nbformat_minor": 0
}